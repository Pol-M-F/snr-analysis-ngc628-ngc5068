{
 "cells": [
  {
   "cell_type": "code",
   "execution_count": 89,
   "id": "027ee1bf-4c57-4614-9e16-ba71a5a8bb3b",
   "metadata": {},
   "outputs": [],
   "source": [
    "import numpy as np\n",
    "import re"
   ]
  },
  {
   "cell_type": "code",
   "execution_count": 91,
   "id": "2cf6d0d4-b0fb-4db1-ab5c-c108f0856c1a",
   "metadata": {},
   "outputs": [],
   "source": [
    "Rs = [0.00013310329,8.8735527e-05,0.0002440227,0.00026620659,0.00044367764]\n",
    "Rb = [2.2183882e-05,1e-06,2.2183882e-05,4.4367764e-05,8.8735527e-05]\n",
    "As = [2.90476,1.21032,2.17857,2.6627,4.11508]\n",
    "Ab = [20.5754,16.9445,18.881,22.754,35.5833]\n",
    "Cs = [6,4,11,12,20]\n",
    "Cb = [1,0,1,2,4]\n",
    "Ts = [45077.8,45077.8,45077.8,45077.8,45077.8]\n",
    "Tb = [45077.8,45077.8,45077.8,45077.8,45077.8]"
   ]
  },
  {
   "cell_type": "code",
   "execution_count": 93,
   "id": "fb4060ec-c7c2-4171-b009-b829a8191eb8",
   "metadata": {},
   "outputs": [],
   "source": [
    "Rs = np.array(Rs)\n",
    "Rb = np.array(Rb)\n",
    "As = np.array(As)\n",
    "Ab = np.array(Ab)\n",
    "Cs = np.array(Cs)\n",
    "Cb = np.array(Cb)\n",
    "Ts = np.array(Ts)\n",
    "Tb = np.array(Tb)"
   ]
  },
  {
   "cell_type": "code",
   "execution_count": 95,
   "id": "afc1c62f-9861-4fec-951d-10b63304a985",
   "metadata": {},
   "outputs": [],
   "source": [
    "Rnet = Rs - Rb*(As/Ab)\n",
    "\n",
    "sigma_Rs = np.sqrt(Cs) / Ts\n",
    "sigma_Rb = np.sqrt(Cb) / Tb\n",
    "\n",
    "sigma_Rnet = np.sqrt(sigma_Rs**2 + (sigma_Rb * As / Ab)**2)"
   ]
  },
  {
   "cell_type": "code",
   "execution_count": 97,
   "id": "93d4c6ff-bda2-47ed-9c77-06ec1ab4d777",
   "metadata": {},
   "outputs": [],
   "source": [
    "SNR = Rnet/sigma_Rnet"
   ]
  },
  {
   "cell_type": "code",
   "execution_count": 99,
   "id": "c7ee7861-6ac0-4c60-ad78-8584528500fe",
   "metadata": {},
   "outputs": [
    {
     "data": {
      "text/plain": [
       "array([2.38789337, 1.99839125, 3.27985282, 3.39267212, 4.36287025])"
      ]
     },
     "execution_count": 99,
     "metadata": {},
     "output_type": "execute_result"
    }
   ],
   "source": [
    "SNR"
   ]
  },
  {
   "cell_type": "code",
   "execution_count": 101,
   "id": "9374ec21-672f-40e7-a9e0-3f7c6c3d55c9",
   "metadata": {},
   "outputs": [],
   "source": [
    "absorved = 4.162E-12 \n",
    "unabsorved = 5.185E-12  \n",
    "\n",
    "flux_abs = Rnet * absorved\n",
    "flux_abs_err = sigma_Rnet * absorved\n",
    "flux_unabs = Rnet * unabsorved\n",
    "flux_unabs_err = sigma_Rnet * unabsorved"
   ]
  },
  {
   "cell_type": "code",
   "execution_count": 103,
   "id": "edf8173c-b6c1-417e-81fe-cb55b371d70b",
   "metadata": {},
   "outputs": [],
   "source": [
    "def luminosidad(flux, distance, flux_error, distance_error):\n",
    "    distance = distance * 3.086 * 10**24\n",
    "    \n",
    "    L = 4 * np.pi * distance**2 * flux\n",
    "    L_error = np.sqrt((4 * np.pi * distance**2 * flux_error)**2 + (8 * np.pi * distance * flux * distance_error)**2)\n",
    "    \n",
    "    return L, L_error\n",
    "\n",
    "dist =  8.63 # en Mpc\n",
    "e_dist = 0.30\n",
    "\n",
    "lumi_abs, lumi_abs_err = luminosidad(flux_abs, dist, flux_abs_err, e_dist)\n",
    "lumi_unabs, lumi_unabs_err = luminosidad(flux_unabs, dist, flux_unabs_err, e_dist)"
   ]
  },
  {
   "cell_type": "code",
   "execution_count": 105,
   "id": "8759880d-f4a0-4a65-a68d-8b5bc6b71c2d",
   "metadata": {},
   "outputs": [],
   "source": [
    "def cargar_coords(nombre_reg):\n",
    "    x_list = []\n",
    "    y_list = []\n",
    "    r_list = []\n",
    "\n",
    "    with open(nombre_reg, 'r') as f:\n",
    "        for line in f:\n",
    "            if line.startswith(\"circle(\"):\n",
    "                # Cerca valors dins de circle(...)\n",
    "                match = re.search(r'circle\\(([^,]+),([^,]+),([^\\)\"]+)', line)\n",
    "                if match:\n",
    "                    x, y, r = map(float, match.groups())\n",
    "                    x_list.append(x)\n",
    "                    y_list.append(y)\n",
    "                    r_list.append(r)\n",
    "    \n",
    "    return np.array(x_list), np.array(y_list), np.array(r_list)"
   ]
  },
  {
   "cell_type": "code",
   "execution_count": 107,
   "id": "e17e6b03-a4a4-41c9-aa9e-e5942515a4d9",
   "metadata": {},
   "outputs": [],
   "source": [
    "path = 'wavdetect/broad_area_WCS.reg'\n",
    "coords = cargar_coords(path)"
   ]
  },
  {
   "cell_type": "code",
   "execution_count": 123,
   "id": "110a1aaf-0c22-4219-b7e3-168b7b837fb7",
   "metadata": {},
   "outputs": [
    {
     "name": "stdout",
     "output_type": "stream",
     "text": [
      "[24.1829813 24.1989824 24.1768352 24.1670393 24.1873178] [15.7993186 15.7906145 15.7835827 15.7736928 15.7628483]\n"
     ]
    }
   ],
   "source": [
    "x, y, r = coords\n",
    "# Eliminar el primer elemento\n",
    "x = x[1:]\n",
    "y = y[1:]\n",
    "r = r[1:]\n",
    "\n",
    "print(x, y)"
   ]
  },
  {
   "cell_type": "code",
   "execution_count": 125,
   "id": "6f460aa3-5248-43f1-8cb6-312edbe5049c",
   "metadata": {},
   "outputs": [],
   "source": [
    "import csv\n",
    "\n",
    "\n",
    "energy = [['medium','soft'],['medium','soft'],['soft'],['medium','soft'],['hard','medium','soft']]\n",
    "\n",
    "header = [\n",
    "    'RA', 'Dec',\n",
    "    '$F_{abs}$', '$F_{unabs}$',\n",
    "    'flux_abs_err', 'flux_unabs_err',\n",
    "    'log($L_{abs}$)', 'log10($L_{unabs}$)',\n",
    "    'lumi_abs_err', 'lumi_unabs_err', 'Broad S/N', 'Detected in bands'\n",
    "]\n",
    "\n",
    "log_lumi_unabs = np.log10(lumi_unabs)\n",
    "log_lumi_abs = np.log10(lumi_abs)\n",
    "\n",
    "log_lumi_unabs_err = np.log10(lumi_unabs + lumi_unabs_err) - log_lumi_unabs\n",
    "log_lumi_abs_err = np.log10(lumi_abs + lumi_abs_err) - log_lumi_abs\n",
    "\n",
    "\n",
    "rows = zip(\n",
    "    x, y,\n",
    "    flux_abs, flux_unabs,\n",
    "    flux_abs_err, flux_unabs_err,\n",
    "    log_lumi_abs, log_lumi_unabs,\n",
    "    log_lumi_abs_err, log_lumi_unabs_err, SNR, energy\n",
    ")\n",
    "\n",
    "\n",
    "with open('resultats_xray_NGC0628.csv', 'w', newline='') as f:\n",
    "    writer = csv.writer(f)\n",
    "    writer.writerow(header)\n",
    "    writer.writerows(rows)\n"
   ]
  },
  {
   "cell_type": "code",
   "execution_count": null,
   "id": "9bca3011-4fbe-4bcc-9126-6f5a4f42b0a3",
   "metadata": {},
   "outputs": [],
   "source": []
  },
  {
   "cell_type": "code",
   "execution_count": null,
   "id": "18aeb798-b353-4499-8897-d17dbaf2e04c",
   "metadata": {},
   "outputs": [],
   "source": []
  }
 ],
 "metadata": {
  "kernelspec": {
   "display_name": "Python [conda env:base] *",
   "language": "python",
   "name": "conda-base-py"
  },
  "language_info": {
   "codemirror_mode": {
    "name": "ipython",
    "version": 3
   },
   "file_extension": ".py",
   "mimetype": "text/x-python",
   "name": "python",
   "nbconvert_exporter": "python",
   "pygments_lexer": "ipython3",
   "version": "3.12.2"
  }
 },
 "nbformat": 4,
 "nbformat_minor": 5
}
