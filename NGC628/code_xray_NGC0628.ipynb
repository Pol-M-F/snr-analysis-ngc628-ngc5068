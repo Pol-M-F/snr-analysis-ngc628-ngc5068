{
 "cells": [
  {
   "cell_type": "markdown",
   "id": "70ceb9d1-1dd5-440a-b05f-75a86b54c413",
   "metadata": {},
   "source": [
    "### X-ray photometry code for: **NGC 628**"
   ]
  },
  {
   "cell_type": "code",
   "execution_count": 29,
   "id": "027ee1bf-4c57-4614-9e16-ba71a5a8bb3b",
   "metadata": {},
   "outputs": [],
   "source": [
    "import numpy as np\n",
    "import re\n",
    "import csv"
   ]
  },
  {
   "cell_type": "code",
   "execution_count": 31,
   "id": "2cf6d0d4-b0fb-4db1-ab5c-c108f0856c1a",
   "metadata": {},
   "outputs": [],
   "source": [
    "# write down the diferent parameters from the source and the background obtain in DS9 after data reduction\n",
    "\n",
    "# count rate\n",
    "Rs = [0.00013310329,8.8735527e-05,0.0002440227,0.00026620659,0.00044367764] \n",
    "Rb = [2.2183882e-05,1e-06,2.2183882e-05,4.4367764e-05,8.8735527e-05]\n",
    "\n",
    "# area\n",
    "As = [2.90476,1.21032,2.17857,2.6627,4.11508]\n",
    "Ab = [20.5754,16.9445,18.881,22.754,35.5833]\n",
    "\n",
    "# counts\n",
    "Cs = [6,4,11,12,20]\n",
    "Cb = [1,0,1,2,4]\n",
    "\n",
    "# exposure time\n",
    "Ts = [45077.8,45077.8,45077.8,45077.8,45077.8]\n",
    "Tb = [45077.8,45077.8,45077.8,45077.8,45077.8]"
   ]
  },
  {
   "cell_type": "code",
   "execution_count": 33,
   "id": "fb4060ec-c7c2-4171-b009-b829a8191eb8",
   "metadata": {},
   "outputs": [],
   "source": [
    "# make them np.array\n",
    "Rs = np.array(Rs)\n",
    "Rb = np.array(Rb)\n",
    "As = np.array(As)\n",
    "Ab = np.array(Ab)\n",
    "Cs = np.array(Cs)\n",
    "Cb = np.array(Cb)\n",
    "Ts = np.array(Ts)\n",
    "Tb = np.array(Tb)"
   ]
  },
  {
   "cell_type": "code",
   "execution_count": 35,
   "id": "afc1c62f-9861-4fec-951d-10b63304a985",
   "metadata": {},
   "outputs": [],
   "source": [
    "# calculate net count rate and its error\n",
    "Rnet = Rs - Rb*(As/Ab)\n",
    "\n",
    "sigma_Rs = np.sqrt(Cs) / Ts\n",
    "sigma_Rb = np.sqrt(Cb) / Tb\n",
    "\n",
    "sigma_Rnet = np.sqrt(sigma_Rs**2 + (sigma_Rb * As / Ab)**2)"
   ]
  },
  {
   "cell_type": "code",
   "execution_count": 37,
   "id": "93d4c6ff-bda2-47ed-9c77-06ec1ab4d777",
   "metadata": {},
   "outputs": [],
   "source": [
    "# calculate signal to noise ratio  (SNR)\n",
    "SNR = Rnet/sigma_Rnet"
   ]
  },
  {
   "cell_type": "code",
   "execution_count": 39,
   "id": "9374ec21-672f-40e7-a9e0-3f7c6c3d55c9",
   "metadata": {},
   "outputs": [],
   "source": [
    "# count rate to flux factor conversions for absorved or unabsorved\n",
    "absorved = 4.162E-12 \n",
    "unabsorved = 5.185E-12  \n",
    "\n",
    "flux_abs = Rnet * absorved\n",
    "flux_abs_err = sigma_Rnet * absorved\n",
    "flux_unabs = Rnet * unabsorved\n",
    "flux_unabs_err = sigma_Rnet * unabsorved"
   ]
  },
  {
   "cell_type": "code",
   "execution_count": 51,
   "id": "edf8173c-b6c1-417e-81fe-cb55b371d70b",
   "metadata": {},
   "outputs": [],
   "source": [
    "def luminosity(flux, distance, flux_error, distance_error):\n",
    "    # Convert distance to cm (if necessary)\n",
    "    distance = distance * 3.086 * 10**24\n",
    "    \n",
    "    L = 4 * np.pi * distance**2 * flux\n",
    "    L_error = np.sqrt((4 * np.pi * distance**2 * flux_error)**2 + (8 * np.pi * distance * flux * distance_error)**2)\n",
    "    \n",
    "    return L, L_error\n",
    "\n",
    "dist =  8.63 # in Mpc\n",
    "e_dist = 0.30\n",
    "\n",
    "# we compute the luminosity for absorved and unabsorved fluxes\n",
    "lumi_abs, lumi_abs_err = luminosity(flux_abs, dist, flux_abs_err, e_dist)\n",
    "lumi_unabs, lumi_unabs_err = luminosity(flux_unabs, dist, flux_unabs_err, e_dist)"
   ]
  },
  {
   "cell_type": "code",
   "execution_count": 59,
   "id": "8759880d-f4a0-4a65-a68d-8b5bc6b71c2d",
   "metadata": {},
   "outputs": [],
   "source": [
    "def upload_coords(nombre_reg):\n",
    "    x_list = []\n",
    "    y_list = []\n",
    "    r_list = []\n",
    "\n",
    "    with open(nombre_reg, 'r') as f:\n",
    "        for line in f:\n",
    "            if line.startswith(\"circle(\"):\n",
    "                match = re.search(r'circle\\(([^,]+),([^,]+),([^\\)\"]+)', line)\n",
    "                if match:\n",
    "                    x, y, r = map(float, match.groups())\n",
    "                    x_list.append(x)\n",
    "                    y_list.append(y)\n",
    "                    r_list.append(r)\n",
    "    \n",
    "    return np.array(x_list), np.array(y_list), np.array(r_list)"
   ]
  },
  {
   "cell_type": "code",
   "execution_count": 61,
   "id": "e17e6b03-a4a4-41c9-aa9e-e5942515a4d9",
   "metadata": {},
   "outputs": [],
   "source": [
    "path = 'wavdetect/broad_results_WCS.reg'\n",
    "coords = upload_coords(path)"
   ]
  },
  {
   "cell_type": "code",
   "execution_count": 63,
   "id": "110a1aaf-0c22-4219-b7e3-168b7b837fb7",
   "metadata": {},
   "outputs": [
    {
     "name": "stdout",
     "output_type": "stream",
     "text": [
      "[24.1829813 24.1989824 24.1768352 24.1670393 24.1873178] [15.7993186 15.7906145 15.7835827 15.7736928 15.7628483]\n"
     ]
    }
   ],
   "source": [
    "x, y, r = coords # coordinates from the sources\n",
    "print(x, y)"
   ]
  },
  {
   "cell_type": "code",
   "execution_count": 68,
   "id": "6f460aa3-5248-43f1-8cb6-312edbe5049c",
   "metadata": {},
   "outputs": [],
   "source": [
    "# energy bands where the sources are detected\n",
    "energy = [['medium','soft'],['medium','soft'],['soft'],['medium','soft'],['hard','medium','soft']]\n",
    "\n",
    "# we save all the results in an .csv file \n",
    "header = [\n",
    "    'RA', 'Dec',\n",
    "    '$F_{abs}$', '$F_{unabs}$',\n",
    "    'flux_abs_err', 'flux_unabs_err',\n",
    "    'log($L_{abs}$)', 'log10($L_{unabs}$)',\n",
    "    'lumi_abs_err', 'lumi_unabs_err', 'Broad S/N', 'Detected in bands'\n",
    "]\n",
    "\n",
    "log_lumi_unabs = np.log10(lumi_unabs)\n",
    "log_lumi_abs = np.log10(lumi_abs)\n",
    "\n",
    "log_lumi_unabs_err = np.log10(lumi_unabs + lumi_unabs_err) - log_lumi_unabs\n",
    "log_lumi_abs_err = np.log10(lumi_abs + lumi_abs_err) - log_lumi_abs\n",
    "\n",
    "\n",
    "rows = zip(\n",
    "    x, y,\n",
    "    flux_abs, flux_unabs,\n",
    "    flux_abs_err, flux_unabs_err,\n",
    "    log_lumi_abs, log_lumi_unabs,\n",
    "    log_lumi_abs_err, log_lumi_unabs_err, SNR, energy\n",
    ")\n",
    "\n",
    "\n",
    "with open('results_xray_NGC0628.csv', 'w', newline='') as f:\n",
    "    writer = csv.writer(f)\n",
    "    writer.writerow(header)\n",
    "    writer.writerows(rows)\n"
   ]
  }
 ],
 "metadata": {
  "kernelspec": {
   "display_name": "Python [conda env:base] *",
   "language": "python",
   "name": "conda-base-py"
  },
  "language_info": {
   "codemirror_mode": {
    "name": "ipython",
    "version": 3
   },
   "file_extension": ".py",
   "mimetype": "text/x-python",
   "name": "python",
   "nbconvert_exporter": "python",
   "pygments_lexer": "ipython3",
   "version": "3.12.2"
  }
 },
 "nbformat": 4,
 "nbformat_minor": 5
}
