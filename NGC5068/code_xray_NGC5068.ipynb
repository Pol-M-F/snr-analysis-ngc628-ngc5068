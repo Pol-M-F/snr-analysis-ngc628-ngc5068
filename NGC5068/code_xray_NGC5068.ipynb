{
 "cells": [
  {
   "cell_type": "markdown",
   "id": "0f9daea4-f517-47d5-bd03-c50b5059c492",
   "metadata": {},
   "source": [
    "### X-ray photometry code for: **NGC 5068**"
   ]
  },
  {
   "cell_type": "code",
   "execution_count": 37,
   "id": "2c2625e3-650f-46cf-a227-a618b1c58c92",
   "metadata": {},
   "outputs": [],
   "source": [
    "import numpy as np\n",
    "import re\n",
    "import csv"
   ]
  },
  {
   "cell_type": "code",
   "execution_count": 39,
   "id": "2cf6d0d4-b0fb-4db1-ab5c-c108f0856c1a",
   "metadata": {},
   "outputs": [],
   "source": [
    "# write down the diferent parameters from the source and the background obtain in DS9 after data reduction\n",
    "\n",
    "# count rate\n",
    "Rs = [0.00012646895,0.00030986862,0.0090425299,8.4991556e-05]\n",
    "Rb = [6.3234475e-05,4.4507635e-05,0.00052695395,4.2466678e-05]\n",
    "\n",
    "# area\n",
    "As = [1.69445,3.38889,6.29366,0.968255]\n",
    "Ab = [26.8691,13.5556,41.877,21.3016]\n",
    "\n",
    "# counts\n",
    "Cs = [6,14,429,4]\n",
    "Cb = [3,2,25,2]\n",
    "\n",
    "# exposure time\n",
    "Ts = [47442.5,45147.2,47442.5,47078.9]\n",
    "Tb = [47442.5,44913.3,47442.1,47073.4]"
   ]
  },
  {
   "cell_type": "code",
   "execution_count": 41,
   "id": "fb4060ec-c7c2-4171-b009-b829a8191eb8",
   "metadata": {},
   "outputs": [],
   "source": [
    "# make them np.array\n",
    "Rs = np.array(Rs)\n",
    "Rb = np.array(Rb)\n",
    "As = np.array(As)\n",
    "Ab = np.array(Ab)\n",
    "Cs = np.array(Cs)\n",
    "Cb = np.array(Cb)\n",
    "Ts = np.array(Ts)\n",
    "Tb = np.array(Tb)"
   ]
  },
  {
   "cell_type": "code",
   "execution_count": 43,
   "id": "afc1c62f-9861-4fec-951d-10b63304a985",
   "metadata": {},
   "outputs": [],
   "source": [
    "# calculate net count rate and its error\n",
    "Rnet = Rs - Rb*(As/Ab)\n",
    "\n",
    "sigma_Rs = np.sqrt(Cs) / Ts\n",
    "sigma_Rb = np.sqrt(Cb) / Tb\n",
    "\n",
    "sigma_Rnet = np.sqrt(sigma_Rs**2 + (sigma_Rb * As / Ab)**2)"
   ]
  },
  {
   "cell_type": "code",
   "execution_count": 45,
   "id": "93d4c6ff-bda2-47ed-9c77-06ec1ab4d777",
   "metadata": {},
   "outputs": [],
   "source": [
    "# calculate signal to noise ratio  (SNR)\n",
    "SNR = Rnet/sigma_Rnet"
   ]
  },
  {
   "cell_type": "code",
   "execution_count": 47,
   "id": "9374ec21-672f-40e7-a9e0-3f7c6c3d55c9",
   "metadata": {},
   "outputs": [],
   "source": [
    "# count rate to flux factor conversions for absorved or unabsorved\n",
    "absorved = 4.162E-12 \n",
    "unabsorved = 5.185E-12  \n",
    "\n",
    "flux_abs = Rnet * absorved\n",
    "flux_abs_err = sigma_Rnet * absorved\n",
    "flux_unabs = Rnet * unabsorved\n",
    "flux_unabs_err = sigma_Rnet * unabsorved"
   ]
  },
  {
   "cell_type": "code",
   "execution_count": 53,
   "id": "edf8173c-b6c1-417e-81fe-cb55b371d70b",
   "metadata": {},
   "outputs": [],
   "source": [
    "def luminosity(flux, distance, flux_error, distance_error):\n",
    "    # Convert distance to cm (if necessary)\n",
    "    distance = distance * 3.086 * 10**24\n",
    "    \n",
    "    L = 4 * np.pi * distance**2 * flux\n",
    "    L_error = np.sqrt((4 * np.pi * distance**2 * flux_error)**2 + (8 * np.pi * distance * flux * distance_error)**2)\n",
    "    \n",
    "    return L, L_error\n",
    "\n",
    "dist =  5.16 # in Mpc\n",
    "e_dist = 0.35\n",
    "\n",
    "# we compute the luminosity for absorved and unabsorved fluxes\n",
    "lumi_abs, lumi_abs_err = luminosity(flux_abs, dist, flux_abs_err, e_dist)\n",
    "lumi_unabs, lumi_unabs_err = luminosity(flux_unabs, dist, flux_unabs_err, e_dist)"
   ]
  },
  {
   "cell_type": "code",
   "execution_count": 55,
   "id": "8759880d-f4a0-4a65-a68d-8b5bc6b71c2d",
   "metadata": {},
   "outputs": [],
   "source": [
    "def upload_coords(nombre_reg):\n",
    "    x_list = []\n",
    "    y_list = []\n",
    "    r_list = [] \n",
    "\n",
    "    with open(nombre_reg, 'r') as f:\n",
    "        for line in f:\n",
    "            if line.startswith(\"circle(\"):\n",
    "                match = re.search(r'circle\\(([^,]+),([^,]+),([^\\)\"]+)', line)\n",
    "                if match:\n",
    "                    x, y, r = map(float, match.groups())\n",
    "                    x_list.append(x)\n",
    "                    y_list.append(y)\n",
    "                    r_list.append(r)\n",
    "    \n",
    "    return np.array(x_list), np.array(y_list), np.array(r_list)"
   ]
  },
  {
   "cell_type": "code",
   "execution_count": 59,
   "id": "e17e6b03-a4a4-41c9-aa9e-e5942515a4d9",
   "metadata": {},
   "outputs": [],
   "source": [
    "path = 'wavdetect/broad_results_WCS.reg'\n",
    "coords = upload_coords(path)"
   ]
  },
  {
   "cell_type": "code",
   "execution_count": 61,
   "id": "110a1aaf-0c22-4219-b7e3-168b7b837fb7",
   "metadata": {},
   "outputs": [
    {
     "name": "stdout",
     "output_type": "stream",
     "text": [
      "[199.7241768 199.7115944 199.746244  199.7211894] [-21.0583777 -21.0131466 -21.0427062 -21.0653469]\n"
     ]
    }
   ],
   "source": [
    "x, y, r = coords # coordinates from the sources\n",
    "print(x, y)"
   ]
  },
  {
   "cell_type": "code",
   "execution_count": 63,
   "id": "6f460aa3-5248-43f1-8cb6-312edbe5049c",
   "metadata": {},
   "outputs": [],
   "source": [
    "# energy bands where the sources are detected\n",
    "energy = [['hard','medium','soft'],['hard','medium','soft'],['hard','medium','soft'],['medium','soft']]\n",
    "\n",
    "# we save all the results in an .csv file \n",
    "header = [\n",
    "    'RA', 'Dec',\n",
    "    '$F_{abs}$', '$F_{unabs}$',\n",
    "    'flux_abs_err', 'flux_unabs_err',\n",
    "    'log($L_{abs}$)', 'log10($L_{unabs}$)',\n",
    "    'lumi_abs_err', 'lumi_unabs_err', 'Broad S/N', 'Detected in bands'\n",
    "]\n",
    "\n",
    "log_lumi_unabs = np.log10(lumi_unabs)\n",
    "log_lumi_abs = np.log10(lumi_abs)\n",
    "\n",
    "log_lumi_unabs_err = np.log10(lumi_unabs + lumi_unabs_err) - log_lumi_unabs\n",
    "log_lumi_abs_err = np.log10(lumi_abs + lumi_abs_err) - log_lumi_abs\n",
    "\n",
    "\n",
    "rows = zip(\n",
    "    x, y,\n",
    "    flux_abs, flux_unabs,\n",
    "    flux_abs_err, flux_unabs_err,\n",
    "    log_lumi_abs, log_lumi_unabs,\n",
    "    log_lumi_abs_err, log_lumi_unabs_err, SNR, energy\n",
    ")\n",
    "\n",
    "# Guardem a fitxer CSV\n",
    "with open('resultats_xray_NGC5068.csv', 'w', newline='') as f:\n",
    "    writer = csv.writer(f)\n",
    "    writer.writerow(header)\n",
    "    writer.writerows(rows)\n"
   ]
  }
 ],
 "metadata": {
  "kernelspec": {
   "display_name": "Python [conda env:base] *",
   "language": "python",
   "name": "conda-base-py"
  },
  "language_info": {
   "codemirror_mode": {
    "name": "ipython",
    "version": 3
   },
   "file_extension": ".py",
   "mimetype": "text/x-python",
   "name": "python",
   "nbconvert_exporter": "python",
   "pygments_lexer": "ipython3",
   "version": "3.12.2"
  }
 },
 "nbformat": 4,
 "nbformat_minor": 5
}
